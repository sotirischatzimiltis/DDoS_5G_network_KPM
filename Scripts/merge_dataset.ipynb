{
 "cells": [
  {
   "cell_type": "code",
   "execution_count": 16,
   "id": "ac750fcd",
   "metadata": {},
   "outputs": [],
   "source": [
    "import pandas as pd"
   ]
  },
  {
   "cell_type": "code",
   "execution_count": 17,
   "id": "a65d4520",
   "metadata": {},
   "outputs": [],
   "source": [
    "# read files\n",
    "df_ue = pd.read_csv('ue_data_new.csv')\n",
    "df_cell = pd.read_csv('cell_data_correlation.csv')"
   ]
  },
  {
   "cell_type": "code",
   "execution_count": 18,
   "id": "a2846617",
   "metadata": {},
   "outputs": [
    {
     "name": "stdout",
     "output_type": "stream",
     "text": [
      "\n",
      "Merged DataFrame:\n",
      "Index(['timestamp', 'imeisv_ue', 'bearer_0_dl_total_bytes_ue',\n",
      "       'bearer_0_ul_total_bytes_ue', 'bearer_1_dl_total_bytes_ue',\n",
      "       'bearer_1_ul_total_bytes_ue', 'cell_X_cqi_ue', 'cell_X_dl_bitrate_ue',\n",
      "       'cell_X_dl_mcs_ue', 'cell_X_dl_retx_ue', 'cell_X_dl_tx_ue',\n",
      "       'cell_X_epre_ue', 'cell_X_initial_ta_ue', 'cell_X_p_ue_ue',\n",
      "       'cell_X_pusch_snr_ue', 'cell_X_ul_bitrate_ue', 'cell_X_ul_mcs_ue',\n",
      "       'cell_X_ul_path_loss_ue', 'cell_X_ul_phr_ue', 'cell_X_ul_retx_ue',\n",
      "       'cell_X_ul_tx_ue', 'cell_id', 'cell_X_dl_bitrate_cell',\n",
      "       'cell_X_dl_err_cell', 'cell_X_dl_sched_users_max_cell',\n",
      "       'cell_X_dl_use_max_cell', 'cell_X_drb_count_avg_cell',\n",
      "       'cell_X_ul_err_cell', 'cell_X_ul_use_max_cell', 'duration_cell',\n",
      "       'msg_ng_initial_context_setup_request_cell', 'msg_ng_paging_cell',\n",
      "       'rf_samples_rx1_count_cell', 'rf_samples_tx1_max_cell',\n",
      "       'msg_ng_error_indication_cell'],\n",
      "      dtype='object')\n",
      "Column 'timestamp': 0 NaN values\n",
      "Column 'imeisv_ue': 0 NaN values\n",
      "Column 'bearer_0_dl_total_bytes_ue': 0 NaN values\n",
      "Column 'bearer_0_ul_total_bytes_ue': 0 NaN values\n",
      "Column 'bearer_1_dl_total_bytes_ue': 0 NaN values\n",
      "Column 'bearer_1_ul_total_bytes_ue': 0 NaN values\n",
      "Column 'cell_X_cqi_ue': 0 NaN values\n",
      "Column 'cell_X_dl_bitrate_ue': 0 NaN values\n",
      "Column 'cell_X_dl_mcs_ue': 0 NaN values\n",
      "Column 'cell_X_dl_retx_ue': 0 NaN values\n",
      "Column 'cell_X_dl_tx_ue': 0 NaN values\n",
      "Column 'cell_X_epre_ue': 0 NaN values\n",
      "Column 'cell_X_initial_ta_ue': 0 NaN values\n",
      "Column 'cell_X_p_ue_ue': 0 NaN values\n",
      "Column 'cell_X_pusch_snr_ue': 0 NaN values\n",
      "Column 'cell_X_ul_bitrate_ue': 0 NaN values\n",
      "Column 'cell_X_ul_mcs_ue': 0 NaN values\n",
      "Column 'cell_X_ul_path_loss_ue': 0 NaN values\n",
      "Column 'cell_X_ul_phr_ue': 0 NaN values\n",
      "Column 'cell_X_ul_retx_ue': 0 NaN values\n",
      "Column 'cell_X_ul_tx_ue': 0 NaN values\n",
      "Column 'cell_id': 0 NaN values\n",
      "Column 'cell_X_dl_bitrate_cell': 0 NaN values\n",
      "Column 'cell_X_dl_err_cell': 72149 NaN values\n",
      "Column 'cell_X_dl_sched_users_max_cell': 0 NaN values\n",
      "Column 'cell_X_dl_use_max_cell': 72149 NaN values\n",
      "Column 'cell_X_drb_count_avg_cell': 72149 NaN values\n",
      "Column 'cell_X_ul_err_cell': 72149 NaN values\n",
      "Column 'cell_X_ul_use_max_cell': 72149 NaN values\n",
      "Column 'duration_cell': 0 NaN values\n",
      "Column 'msg_ng_initial_context_setup_request_cell': 0 NaN values\n",
      "Column 'msg_ng_paging_cell': 6 NaN values\n",
      "Column 'rf_samples_rx1_count_cell': 0 NaN values\n",
      "Column 'rf_samples_tx1_max_cell': 0 NaN values\n",
      "Column 'msg_ng_error_indication_cell': 171470 NaN values\n"
     ]
    }
   ],
   "source": [
    "# Merge the DataFrames based on cell_id and timestamp\n",
    "df_ue_suffixed = df_ue.add_suffix('_ue')\n",
    "df_cell_suffixed = df_cell.add_suffix('_cell')\n",
    "\n",
    "# Remove the suffix from the merge key columns\n",
    "df_ue_suffixed.rename(columns={'cell_id_ue': 'cell_id', 'timestamp_ue': 'timestamp'}, inplace=True)\n",
    "df_cell_suffixed.rename(columns={'cell_id_cell': 'cell_id', 'timestamp_cell': 'timestamp'}, inplace=True)\n",
    "\n",
    "# Merge the DataFrames on 'cell_id' and 'timestamp'\n",
    "merged_df = pd.merge(df_ue_suffixed, df_cell_suffixed, on=['cell_id', 'timestamp'], how='inner')\n",
    "\n",
    "# Check the merged DataFrame\n",
    "print(\"\\nMerged DataFrame:\")\n",
    "merged_df.head()\n",
    "print(merged_df.columns)\n",
    "\n",
    "# Print how many Nan values exist in each column\n",
    "nan_counts = merged_df.isnull().sum()\n",
    "for column, count in nan_counts.items():\n",
    "    print(f\"Column '{column}': {count} NaN values\")"
   ]
  },
  {
   "cell_type": "code",
   "execution_count": 19,
   "id": "858f1006",
   "metadata": {},
   "outputs": [],
   "source": [
    "# remove more features\n",
    "to_drop = ['msg_ng_error_indication_cell','cell_X_ul_use_max_cell','cell_X_ul_err_cell','cell_X_drb_count_avg_cell',\n",
    "          'cell_X_dl_use_max_cell','cell_X_dl_err_cell']\n",
    "merged_df = merged_df.drop(columns = to_drop)\n",
    "\n",
    "# remove the 6 rows of nan values of paging cell\n",
    "merged_df = merged_df.dropna(subset=['msg_ng_paging_cell'])"
   ]
  },
  {
   "cell_type": "code",
   "execution_count": 20,
   "id": "0120f7e6",
   "metadata": {},
   "outputs": [
    {
     "name": "stdout",
     "output_type": "stream",
     "text": [
      "Column 'timestamp': 0 NaN values\n",
      "Column 'imeisv_ue': 0 NaN values\n",
      "Column 'bearer_0_dl_total_bytes_ue': 0 NaN values\n",
      "Column 'bearer_0_ul_total_bytes_ue': 0 NaN values\n",
      "Column 'bearer_1_dl_total_bytes_ue': 0 NaN values\n",
      "Column 'bearer_1_ul_total_bytes_ue': 0 NaN values\n",
      "Column 'cell_X_cqi_ue': 0 NaN values\n",
      "Column 'cell_X_dl_bitrate_ue': 0 NaN values\n",
      "Column 'cell_X_dl_mcs_ue': 0 NaN values\n",
      "Column 'cell_X_dl_retx_ue': 0 NaN values\n",
      "Column 'cell_X_dl_tx_ue': 0 NaN values\n",
      "Column 'cell_X_epre_ue': 0 NaN values\n",
      "Column 'cell_X_initial_ta_ue': 0 NaN values\n",
      "Column 'cell_X_p_ue_ue': 0 NaN values\n",
      "Column 'cell_X_pusch_snr_ue': 0 NaN values\n",
      "Column 'cell_X_ul_bitrate_ue': 0 NaN values\n",
      "Column 'cell_X_ul_mcs_ue': 0 NaN values\n",
      "Column 'cell_X_ul_path_loss_ue': 0 NaN values\n",
      "Column 'cell_X_ul_phr_ue': 0 NaN values\n",
      "Column 'cell_X_ul_retx_ue': 0 NaN values\n",
      "Column 'cell_X_ul_tx_ue': 0 NaN values\n",
      "Column 'cell_id': 0 NaN values\n",
      "Column 'cell_X_dl_bitrate_cell': 0 NaN values\n",
      "Column 'cell_X_dl_sched_users_max_cell': 0 NaN values\n",
      "Column 'duration_cell': 0 NaN values\n",
      "Column 'msg_ng_initial_context_setup_request_cell': 0 NaN values\n",
      "Column 'msg_ng_paging_cell': 0 NaN values\n",
      "Column 'rf_samples_rx1_count_cell': 0 NaN values\n",
      "Column 'rf_samples_tx1_max_cell': 0 NaN values\n"
     ]
    }
   ],
   "source": [
    "# Print how many Nan values exist in each column\n",
    "nan_counts = merged_df.isnull().sum()\n",
    "for column, count in nan_counts.items():\n",
    "    print(f\"Column '{column}': {count} NaN values\")"
   ]
  },
  {
   "cell_type": "code",
   "execution_count": 21,
   "id": "eebea16f",
   "metadata": {},
   "outputs": [],
   "source": [
    "# Save merged df\n",
    "merged_df.to_csv('merged_dataset_ue_cell_correlation.csv', index=False)"
   ]
  },
  {
   "cell_type": "code",
   "execution_count": null,
   "id": "000c325d",
   "metadata": {},
   "outputs": [],
   "source": []
  }
 ],
 "metadata": {
  "kernelspec": {
   "display_name": "Python 3 (ipykernel)",
   "language": "python",
   "name": "python3"
  },
  "language_info": {
   "codemirror_mode": {
    "name": "ipython",
    "version": 3
   },
   "file_extension": ".py",
   "mimetype": "text/x-python",
   "name": "python",
   "nbconvert_exporter": "python",
   "pygments_lexer": "ipython3",
   "version": "3.11.3"
  }
 },
 "nbformat": 4,
 "nbformat_minor": 5
}
